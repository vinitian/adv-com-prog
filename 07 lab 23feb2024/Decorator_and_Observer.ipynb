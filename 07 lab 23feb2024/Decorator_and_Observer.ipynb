{
  "nbformat": 4,
  "nbformat_minor": 0,
  "metadata": {
    "colab": {
      "provenance": []
    },
    "kernelspec": {
      "name": "python3",
      "display_name": "Python 3"
    },
    "language_info": {
      "name": "python"
    }
  },
  "cells": [
    {
      "cell_type": "markdown",
      "source": [
        "# Decorator Pattern"
      ],
      "metadata": {
        "id": "utqEoBdZ9CYs"
      }
    },
    {
      "cell_type": "markdown",
      "source": [
        "---\n",
        "\n",
        "## Lab Sheet: Building a Shopping Cart with Decorator Pattern\n",
        "\n",
        "### Objective\n",
        "\n",
        "The objective of this lab is to design and implement a shopping cart class that allows customers to add items to their cart, apply various types of coupons for discounts, and calculate the total cost, including delivery fees.\n",
        "\n",
        "### Requirements\n",
        "\n",
        "1. Create a `ShoppingCart` class that stores items in an `ArrayList` of `String`. Each item in the cart should be represented as a string in the format: `\"ItemName:Quantity:Price\"` where `ItemName` is the name of the item, `Quantity` is the number of items, and `Price` is the price of one item.\n",
        "\n",
        "2. Implement the `calculateTotal()` method in the `ShoppingCart` class, which calculates the total price of all items in the cart.\n",
        "\n",
        "3. Implement the `addDeliveryFee(int fee)` method in the `ShoppingCart` class. This method takes an integer `fee` as an input parameter and adds the specified delivery fee to the cart's total cost. The delivery fee should be added before applying any discounts.\n",
        "\n",
        "4. Implement three types of coupons as decorators:\n",
        "    - `DiscountByPercentDecorator`: This decorator should apply a discount by a certain percentage to the total cost before adding the delivery fee. It can be applied only once of this type but can be applied along with other types of coupons.\n",
        "    - `DiscountByAmountDecorator`: This decorator should apply a discount by a specified amount to the total cost before adding the delivery fee. It can be applied only once of this type but can be applied along with other types of coupons.\n",
        "    - `FreeDeliveryDecorator`: This decorator should provide free delivery with no additional cost. It can be applied only once of this type but can be applied along with other types of coupons.\n",
        "    \n",
        "    - This modification allows multiple types of coupons to be applied together while ensuring that each specific type of coupon is applied only once. If a user accidentally applies the same type of coupon more than once, the system will simply ignore the redundant application without displaying an error or halting the program.\n",
        "\n",
        "5. Implement a `getNetPrice()` method in the `ShoppingCart` class, which calculates the net price after applying all the coupons. This method should return the total price after subtracting all discounts.\n",
        "\n",
        "6. Create a test program to demonstrate the functionality of the `ShoppingCart` class. You should add items to the cart, apply different coupons, and calculate and display the total and net prices.\n",
        "\n",
        "### **Example**\n",
        "\n",
        "Here's an example of how to use the `ShoppingCart` class with the decorator pattern:\n",
        "\n",
        "```java\n",
        "// Create a shopping cart\n",
        "ShoppingCart cart = new ShoppingCart();\n",
        "\n",
        "// Add items to the cart\n",
        "cart.addItem(\"Item1:2:50.0\"); // net price is 100.0\n",
        "cart.addItem(\"Item2:1:30.0\"); // net price is 130.0\n",
        "\n",
        "// Add delivery fee\n",
        "cart.addDeliveryFee(10); // Add a $10 delivery fee\n",
        "\n",
        "// Apply coupons using decorators\n",
        "cart = new DiscountByPercentDecorator(cart, 10.0); // Apply a 10% discount, net price should be 127.0 (130*0.9+10)\n",
        "cart = new FreeDeliveryDecorator(cart); // Apply free delivery, net price now is 117.0\n",
        "\n",
        "// Calculate and display the total price and net price\n",
        "double total = cart.calculateTotal();\n",
        "double netPrice = cart.getNetPrice();\n",
        "System.out.println(\"Total Price: $\" + total);\n",
        "System.out.println(\"Net Price: $\" + netPrice);\n",
        "```\n",
        "\n"
      ],
      "metadata": {
        "id": "43aig1PB9Kv6"
      }
    },
    {
      "cell_type": "markdown",
      "source": [
        "# Observer Pattern\n",
        "---"
      ],
      "metadata": {
        "id": "qAcF7Khzt5vb"
      }
    },
    {
      "cell_type": "markdown",
      "source": [
        "## Lab Sheet: Implementing the Observer Pattern for Door Control\n",
        "\n",
        "### Objective\n",
        "\n",
        "The objective of this lab is to design and implement a system that allows multiple doors to be controlled individually or collectively through a central control center. The system will use the Observer pattern to notify doors when they should be opened or closed.\n",
        "\n",
        "### Requirements\n",
        "\n",
        "1. Create a `Door` class that represents an individual door. The `Door` class should include the following methods:\n",
        "    - `open()`: Opens the door and prints \"Door [DoorName] opened,\" where `[DoorName]` is the name of the door.\n",
        "    - `close()`: Closes the door and prints \"Door [DoorName] closed.\"\n",
        "\n",
        "2. Create a `ControlCenter` class that acts as an `Observable`. The `ControlCenter` should include the following methods:\n",
        "    - `openAllDoors()`: Notifies all doors to open.\n",
        "    - `closeAllDoors()`: Notifies all doors to close.\n",
        "\n",
        "3. Implement the Observer pattern by creating an `Observer` interface with methods to update the doors (e.g., `updateDoorOpen(Door door)` and `updateDoorClose(Door door)`).\n",
        "\n",
        "4. [already done for your] Create a `Main` class to demonstrate the system. In the `Main` class, do the following:\n",
        "    - Create three `Door` objects (e.g., D1, D2, D3) with unique names.\n",
        "    - Create a `ControlCenter` object to manage the doors.\n",
        "    - Register each door with the control center as an observer.\n",
        "    - Manually open and close the doors, and observe the system's output.\n",
        "    - Use the control center to open and close all doors, and observe the system's output.\n",
        "    - Add a new door (D4) and register it with the control center.\n",
        "\n",
        "### Example\n",
        "\n",
        "Here's an example of how the system should work:\n",
        "\n",
        "```java\n",
        "// Create Door objects\n",
        "Door D1 = new Door(\"D1\");\n",
        "Door D2 = a new Door(\"D2\");\n",
        "Door D3 = new Door(\"D3\");\n",
        "\n",
        "// Create a ControlCenter object\n",
        "ControlCenter controlCenter = new ControlCenter();\n",
        "\n",
        "// Register doors with the control center\n",
        "controlCenter.registerObserver(D1);\n",
        "controlCenter.registerObserver(D2);\n",
        "controlCenter.registerObserver(D3);\n",
        "\n",
        "// Manually open and close doors\n",
        "D1.open();\n",
        "D2.open();\n",
        "D1.close();\n",
        "\n",
        "// Use the control center to open and close all doors\n",
        "controlCenter.openAllDoors();\n",
        "controlCenter.closeAllDoors();\n",
        "\n",
        "// Add a new door and register it with the control center\n",
        "Door D4 = new Door(\"D4\");\n",
        "controlCenter.registerObserver(D4);\n",
        "controlCenter.openAllDoors();\n",
        "```\n",
        "\n",
        "The expected output for the example:\n",
        "\n",
        "```\n",
        "Door D1 opened\n",
        "Door D2 opened\n",
        "Door D1 closed\n",
        "Door D1 opened\n",
        "Door D2 opened\n",
        "Door D3 opened\n",
        "Door D1 closed\n",
        "Door D2 closed\n",
        "Door D3 closed\n",
        "Door D1 opened\n",
        "Door D2 opened\n",
        "Door D3 opened\n",
        "Door D4 opened\n",
        "```"
      ],
      "metadata": {
        "id": "oel-ETGXt-3h"
      }
    }
  ]
}