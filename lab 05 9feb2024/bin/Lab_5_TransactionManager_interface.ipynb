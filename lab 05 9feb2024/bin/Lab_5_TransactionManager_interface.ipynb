{
  "nbformat": 4,
  "nbformat_minor": 0,
  "metadata": {
    "colab": {
      "provenance": []
    },
    "kernelspec": {
      "name": "python3",
      "display_name": "Python 3"
    },
    "language_info": {
      "name": "python"
    }
  },
  "cells": [
    {
      "cell_type": "markdown",
      "source": [
        "**Problem Description:**\n",
        "\n",
        "In the context of a simplified blockchain-like system, our task is to design an interface class for a Transaction Manager. This Transaction Manager is responsible for handling transactions between wallets, enabling the transfer of funds from one wallet to another. The system's primary data structure is an array of wallets, each identified by a unique wallet ID represented as a string.\n",
        "\n",
        "**Requirements:**\n",
        "\n",
        "***TransactionManager Interface***\n",
        "\n",
        "Design an interface class named `TransactionManager` that defines the methods and operations required for handling transactions between wallets. This interface should serve as a blueprint for implementing the transaction management functionality.\n",
        "\n",
        "* **Wallet ID:** Each wallet is uniquely identified by a string-based Wallet ID. This ID should serve as a key for accessing and managing individual wallets within the system.\n",
        "* **Transaction Functionality:** The interface must include methods for initiating transactions, checking balances, and performing any necessary validation. Specifically, the following methods should be defined:\n",
        "  * `transferFunds(senderWalletId: String, receiverWalletId: String, amount: double): boolean:`\n",
        "  * `getBalance(walletId: String): number:`\n",
        "  * `isValidWallet(walletId: String): boolean:`\n",
        "\n",
        "***SimpleTransactionManager***\n",
        "\n",
        "Implement a subclass of the `TransactionManager` interface named `SimpleTransactionManager`. This subclass should provide concrete implementations for the methods defined in the interface.\n",
        "  * `SimpleTransactionManager(wallets: String)`\n",
        "    * This constructor is used to copy the input Wallet IDs to the wallets array member.\n",
        "  * `transferFunds(senderWalletId: String, receiverWalletId: String, amount: double): boolean:` This method should attempt to transfer the specified amount of funds from the sender wallet to the receiver wallet. It should return a boolean indicating whether the transaction was successful.\n",
        "    * This method should attempt to transfer the specified amount of funds from the sender wallet to the receiver wallet. It should return a boolean indicating whether the transaction was successful.\n",
        "    * In the case that the current balance of the source wallet is less than the amount, it should throw a new `InvalidTransactionException` with the message `\"Not enough balance in the source wallet.\"`\n",
        "      * Because we must have an initial source of the system, so please do not check for amount of `Wall ID` `\"Wallet0\".\n",
        "    * If the source wallet ID is not in the system, throw a new `IllegalArgumentException`, which is a standard Exception in Java.\n",
        "    * For every successful transaction, if there is no target Wallet ID, please process it as if the target wallet is a new one (add the target Wallet ID to the wallets array of this class).\n",
        "  * `getBalance(walletId: String): number:`\n",
        "    * This method should return the current balance of the wallet identified by the given Wallet ID. If the input `walletID` is invalid, throw a new `IllegalArgumentException`.\n",
        "    * You should calculate the balance from the transactions array which is the private member of this class.\n",
        "  * `isValidWallet(walletId: String): boolean:`\n",
        "    * This method should check if a wallet with the given Wallet ID exists in the system.\n",
        "  * `wallets: String[]`\n",
        "    * This array should store all Wallet IDs in the system. You can simply initiate it with a size of 1,000 Strings (we will let the system crash if there are more wallets than 1,000).\n",
        "  * `transactions: String[]`\n",
        "    * This array store all successful transactions in the format `\"source wallet id|receive wallet id|amount\"`\n",
        "    * Please initiate it with a size of 10,000 Strings (we don't care the case that there are more than 10,000 transactions).\n",
        "    \n",
        "**How to submit:** Zip all java files in a Lab5_XXXXXXXXXX.zip (where XXXXXXXXXX is your student id) and submit to mycourseville.\n"
      ],
      "metadata": {
        "id": "UqMX2J3lALAd"
      }
    },
    {
      "cell_type": "markdown",
      "source": [
        "### **Recommendation**\n",
        "\n",
        "* You can use the following code to be member variables of the `SimpleTransactionManager` class\n",
        "```\n",
        "    private String[] wallets;\n",
        "    private String[] transactions;    \n",
        "    private int walletCount;\n",
        "    private int transactionCount;\n",
        "```\n",
        "* This is one of the idea of `getBalance`\n",
        "```\n",
        "    public double getBalance(String walletId) {\n",
        "        if (!isValidWallet(walletId)) {\n",
        "            throw new IllegalArgumentException(\"Invalid wallet ID.\");\n",
        "        }\n",
        "\n",
        "        double balance = 0.0;\n",
        "        for (int i = 0; i < transactionCount; i++) {\n",
        "            String[] parts = transactions[i].split(\"\\\\|\");\n",
        "            if (parts[0].equals(walletId)) {\n",
        "                balance -= Double.parseDouble(parts[2]);\n",
        "            }\n",
        "            if (parts[1].equals(walletId)) {\n",
        "                balance += Double.parseDouble(parts[2]);\n",
        "            }\n",
        "        }\n",
        "\n",
        "        return balance;\n",
        "    }\n",
        "```"
      ],
      "metadata": {
        "id": "u6BzmVamRYOw"
      }
    },
    {
      "cell_type": "markdown",
      "source": [
        "# Test Method\n",
        "\n",
        "```\n",
        "public class App {\n",
        "    public static void main(String[] args) {\n",
        "        // Sample usage\n",
        "        String[] initialWallets = {\"Wallet0\"};\n",
        "\n",
        "        TransactionManager transactionManager = new SimpleTransactionManager(initialWallets);\n",
        "        try {\n",
        "            transactionManager.transferFunds(\"Wallet0\", \"Wallet1\", 100.0);\n",
        "            System.out.println(\"Balance of Wallet1: \" + transactionManager.getBalance(\"Wallet1\"));\n",
        "            transactionManager.transferFunds(\"Wallet1\", \"Wallet2\", 50.0);\n",
        "            System.out.println(\"Balance of Wallet1: \" + transactionManager.getBalance(\"Wallet1\"));\n",
        "            System.out.println(\"Balance of Wallet2: \" + transactionManager.getBalance(\"Wallet2\"));\n",
        "            transactionManager.transferFunds(\"Wallet2\", \"Wallet3\", 25.0);\n",
        "            System.out.println(\"Balance of Wallet2: \" + transactionManager.getBalance(\"Wallet2\"));\n",
        "            System.out.println(\"Balance of Wallet3: \" + transactionManager.getBalance(\"Wallet3\"));\n",
        "            transactionManager.transferFunds(\"Wallet3\", \"Wallet1\", 10.0);\n",
        "            System.out.println(\"Balance of Wallet1: \" + transactionManager.getBalance(\"Wallet1\"));\n",
        "            System.out.println(\"Balance of Wallet3: \" + transactionManager.getBalance(\"Wallet3\"));\n",
        "            System.out.println(transactionManager.isValidWallet(\"Wallet1\"));\n",
        "            System.out.println(transactionManager.isValidWallet(\"Wallet4\"));\n",
        "       }\n",
        "        catch (Exception e) {\n",
        "            System.out.println(e.getMessage());\n",
        "        }\n",
        "        try {\n",
        "            transactionManager.transferFunds(\"Wallet3\", \"Wallet1\", 100.0);\n",
        "        }\n",
        "        catch (Exception e) {\n",
        "            System.out.println(e.getMessage());\n",
        "        }\n",
        "        try {\n",
        "            transactionManager.transferFunds(\"Wallet5\", \"Wallet1\", 100.0);\n",
        "        }\n",
        "        catch (Exception e) {\n",
        "            System.out.println(e.getMessage());\n",
        "        }\n",
        "    }\n",
        "}\n",
        "```"
      ],
      "metadata": {
        "id": "ZwAE1WCrQSmU"
      }
    },
    {
      "cell_type": "markdown",
      "source": [
        "## Expected Results\n",
        "\n",
        "```\n",
        "Balance of Wallet1: 100.0\n",
        "Balance of Wallet1: 50.0\n",
        "Balance of Wallet2: 50.0\n",
        "Balance of Wallet2: 25.0\n",
        "Balance of Wallet3: 25.0\n",
        "Balance of Wallet1: 60.0\n",
        "Balance of Wallet3: 15.0\n",
        "true\n",
        "false\n",
        "Not enough balance in the source wallet.\n",
        "Sender wallet does not exist.\n",
        "```"
      ],
      "metadata": {
        "id": "fOYF4bqhQW7X"
      }
    }
  ]
}